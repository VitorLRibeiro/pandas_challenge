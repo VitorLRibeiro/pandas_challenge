{
 "cells": [
  {
   "cell_type": "markdown",
   "metadata": {},
   "source": [
    "### Note\n",
    "* Instructions have been included for each segment. You do not have to follow them exactly, but they are included to help you think through the steps."
   ]
  },
  {
   "cell_type": "code",
   "execution_count": 1,
   "metadata": {},
   "outputs": [
    {
     "data": {
      "text/html": [
       "<div>\n",
       "<style scoped>\n",
       "    .dataframe tbody tr th:only-of-type {\n",
       "        vertical-align: middle;\n",
       "    }\n",
       "\n",
       "    .dataframe tbody tr th {\n",
       "        vertical-align: top;\n",
       "    }\n",
       "\n",
       "    .dataframe thead th {\n",
       "        text-align: right;\n",
       "    }\n",
       "</style>\n",
       "<table border=\"1\" class=\"dataframe\">\n",
       "  <thead>\n",
       "    <tr style=\"text-align: right;\">\n",
       "      <th></th>\n",
       "      <th>Purchase ID</th>\n",
       "      <th>SN</th>\n",
       "      <th>Age</th>\n",
       "      <th>Gender</th>\n",
       "      <th>Item ID</th>\n",
       "      <th>Item Name</th>\n",
       "      <th>Price</th>\n",
       "    </tr>\n",
       "  </thead>\n",
       "  <tbody>\n",
       "    <tr>\n",
       "      <td>0</td>\n",
       "      <td>0</td>\n",
       "      <td>Lisim78</td>\n",
       "      <td>20</td>\n",
       "      <td>Male</td>\n",
       "      <td>108</td>\n",
       "      <td>Extraction, Quickblade Of Trembling Hands</td>\n",
       "      <td>3.53</td>\n",
       "    </tr>\n",
       "    <tr>\n",
       "      <td>1</td>\n",
       "      <td>1</td>\n",
       "      <td>Lisovynya38</td>\n",
       "      <td>40</td>\n",
       "      <td>Male</td>\n",
       "      <td>143</td>\n",
       "      <td>Frenzied Scimitar</td>\n",
       "      <td>1.56</td>\n",
       "    </tr>\n",
       "    <tr>\n",
       "      <td>2</td>\n",
       "      <td>2</td>\n",
       "      <td>Ithergue48</td>\n",
       "      <td>24</td>\n",
       "      <td>Male</td>\n",
       "      <td>92</td>\n",
       "      <td>Final Critic</td>\n",
       "      <td>4.88</td>\n",
       "    </tr>\n",
       "    <tr>\n",
       "      <td>3</td>\n",
       "      <td>3</td>\n",
       "      <td>Chamassasya86</td>\n",
       "      <td>24</td>\n",
       "      <td>Male</td>\n",
       "      <td>100</td>\n",
       "      <td>Blindscythe</td>\n",
       "      <td>3.27</td>\n",
       "    </tr>\n",
       "    <tr>\n",
       "      <td>4</td>\n",
       "      <td>4</td>\n",
       "      <td>Iskosia90</td>\n",
       "      <td>23</td>\n",
       "      <td>Male</td>\n",
       "      <td>131</td>\n",
       "      <td>Fury</td>\n",
       "      <td>1.44</td>\n",
       "    </tr>\n",
       "  </tbody>\n",
       "</table>\n",
       "</div>"
      ],
      "text/plain": [
       "   Purchase ID             SN  Age Gender  Item ID  \\\n",
       "0            0        Lisim78   20   Male      108   \n",
       "1            1    Lisovynya38   40   Male      143   \n",
       "2            2     Ithergue48   24   Male       92   \n",
       "3            3  Chamassasya86   24   Male      100   \n",
       "4            4      Iskosia90   23   Male      131   \n",
       "\n",
       "                                   Item Name  Price  \n",
       "0  Extraction, Quickblade Of Trembling Hands   3.53  \n",
       "1                          Frenzied Scimitar   1.56  \n",
       "2                               Final Critic   4.88  \n",
       "3                                Blindscythe   3.27  \n",
       "4                                       Fury   1.44  "
      ]
     },
     "execution_count": 1,
     "metadata": {},
     "output_type": "execute_result"
    }
   ],
   "source": [
    "# Dependencies and Setup\n",
    "import pandas as pd\n",
    "import numpy as np\n",
    "\n",
    "# File to Load (Remember to Change These)\n",
    "file_to_load = \"Homework_04-Pandas_Instructions_HeroesOfPymoli_Resources_purchase_data.csv\"\n",
    "\n",
    "# Read Purchasing File and store into Pandas data frame\n",
    "purchase_data = pd.read_csv(file_to_load)\n",
    "purchase_data.head()"
   ]
  },
  {
   "cell_type": "markdown",
   "metadata": {},
   "source": [
    "## Player Count"
   ]
  },
  {
   "cell_type": "code",
   "execution_count": 2,
   "metadata": {},
   "outputs": [],
   "source": [
    "total_players = len(purchase_data[\"SN\"].value_counts())\n"
   ]
  },
  {
   "cell_type": "code",
   "execution_count": 3,
   "metadata": {},
   "outputs": [
    {
     "data": {
      "text/html": [
       "<div>\n",
       "<style scoped>\n",
       "    .dataframe tbody tr th:only-of-type {\n",
       "        vertical-align: middle;\n",
       "    }\n",
       "\n",
       "    .dataframe tbody tr th {\n",
       "        vertical-align: top;\n",
       "    }\n",
       "\n",
       "    .dataframe thead th {\n",
       "        text-align: right;\n",
       "    }\n",
       "</style>\n",
       "<table border=\"1\" class=\"dataframe\">\n",
       "  <thead>\n",
       "    <tr style=\"text-align: right;\">\n",
       "      <th></th>\n",
       "      <th>Total Players</th>\n",
       "    </tr>\n",
       "  </thead>\n",
       "  <tbody>\n",
       "    <tr>\n",
       "      <td>0</td>\n",
       "      <td>576</td>\n",
       "    </tr>\n",
       "  </tbody>\n",
       "</table>\n",
       "</div>"
      ],
      "text/plain": [
       "   Total Players\n",
       "0            576"
      ]
     },
     "execution_count": 3,
     "metadata": {},
     "output_type": "execute_result"
    }
   ],
   "source": [
    "total_players = pd.DataFrame({\"Total Players\":[total_players]})\n",
    "total_players"
   ]
  },
  {
   "cell_type": "code",
   "execution_count": null,
   "metadata": {},
   "outputs": [],
   "source": []
  },
  {
   "cell_type": "markdown",
   "metadata": {},
   "source": [
    "* Display the total number of players\n"
   ]
  },
  {
   "cell_type": "markdown",
   "metadata": {},
   "source": [
    "## Purchasing Analysis (Total)"
   ]
  },
  {
   "cell_type": "markdown",
   "metadata": {},
   "source": [
    "* Run basic calculations to obtain number of unique items, average price, etc.\n",
    "\n",
    "\n",
    "* Create a summary data frame to hold the results\n",
    "\n",
    "\n",
    "* Optional: give the displayed data cleaner formatting\n",
    "\n",
    "\n",
    "* Display the summary data frame\n"
   ]
  },
  {
   "cell_type": "code",
   "execution_count": 4,
   "metadata": {
    "scrolled": true
   },
   "outputs": [
    {
     "data": {
      "text/html": [
       "<div>\n",
       "<style scoped>\n",
       "    .dataframe tbody tr th:only-of-type {\n",
       "        vertical-align: middle;\n",
       "    }\n",
       "\n",
       "    .dataframe tbody tr th {\n",
       "        vertical-align: top;\n",
       "    }\n",
       "\n",
       "    .dataframe thead th {\n",
       "        text-align: right;\n",
       "    }\n",
       "</style>\n",
       "<table border=\"1\" class=\"dataframe\">\n",
       "  <thead>\n",
       "    <tr style=\"text-align: right;\">\n",
       "      <th></th>\n",
       "      <th>Number of Unique Items</th>\n",
       "      <th>Average Price</th>\n",
       "      <th>Number of Purchases</th>\n",
       "      <th>Total Revenue</th>\n",
       "    </tr>\n",
       "  </thead>\n",
       "  <tbody>\n",
       "    <tr>\n",
       "      <td>0</td>\n",
       "      <td>183</td>\n",
       "      <td>3.050987</td>\n",
       "      <td>780</td>\n",
       "      <td>2379.77</td>\n",
       "    </tr>\n",
       "  </tbody>\n",
       "</table>\n",
       "</div>"
      ],
      "text/plain": [
       "   Number of Unique Items  Average Price  Number of Purchases  Total Revenue\n",
       "0                     183       3.050987                  780        2379.77"
      ]
     },
     "execution_count": 4,
     "metadata": {},
     "output_type": "execute_result"
    }
   ],
   "source": [
    "unique_items = len((purchase_data[\"Item ID\"]).unique())\n",
    "average_price = (purchase_data[\"Price\"]).mean()\n",
    "total_purchases = (purchase_data[\"Purchase ID\"]).count()\n",
    "total_revenue = (purchase_data[\"Price\"]).sum()\n",
    "\n",
    "summary_df = pd.DataFrame({\"Number of Unique Items\":[unique_items],\n",
    "                           \"Average Price\":[average_price], \n",
    "                           \"Number of Purchases\": [total_purchases], \n",
    "                           \"Total Revenue\": [total_revenue]})\n",
    "summary_df"
   ]
  },
  {
   "cell_type": "markdown",
   "metadata": {},
   "source": [
    "## Gender Demographics"
   ]
  },
  {
   "cell_type": "markdown",
   "metadata": {},
   "source": [
    "* Percentage and Count of Male Players\n",
    "\n",
    "\n",
    "* Percentage and Count of Female Players\n",
    "\n",
    "\n",
    "* Percentage and Count of Other / Non-Disclosed\n",
    "\n",
    "\n"
   ]
  },
  {
   "cell_type": "code",
   "execution_count": 5,
   "metadata": {},
   "outputs": [
    {
     "data": {
      "text/html": [
       "<div>\n",
       "<style scoped>\n",
       "    .dataframe tbody tr th:only-of-type {\n",
       "        vertical-align: middle;\n",
       "    }\n",
       "\n",
       "    .dataframe tbody tr th {\n",
       "        vertical-align: top;\n",
       "    }\n",
       "\n",
       "    .dataframe thead th {\n",
       "        text-align: right;\n",
       "    }\n",
       "</style>\n",
       "<table border=\"1\" class=\"dataframe\">\n",
       "  <thead>\n",
       "    <tr style=\"text-align: right;\">\n",
       "      <th></th>\n",
       "      <th>Gender Count</th>\n",
       "      <th>Percentage of Players</th>\n",
       "    </tr>\n",
       "    <tr>\n",
       "      <th>Gender</th>\n",
       "      <th></th>\n",
       "      <th></th>\n",
       "    </tr>\n",
       "  </thead>\n",
       "  <tbody>\n",
       "    <tr>\n",
       "      <td>Female</td>\n",
       "      <td>81</td>\n",
       "      <td>14.062500</td>\n",
       "    </tr>\n",
       "    <tr>\n",
       "      <td>Male</td>\n",
       "      <td>484</td>\n",
       "      <td>84.027778</td>\n",
       "    </tr>\n",
       "    <tr>\n",
       "      <td>Other / Non-Disclosed</td>\n",
       "      <td>11</td>\n",
       "      <td>1.909722</td>\n",
       "    </tr>\n",
       "  </tbody>\n",
       "</table>\n",
       "</div>"
      ],
      "text/plain": [
       "                       Gender Count  Percentage of Players\n",
       "Gender                                                    \n",
       "Female                           81              14.062500\n",
       "Male                            484              84.027778\n",
       "Other / Non-Disclosed            11               1.909722"
      ]
     },
     "execution_count": 5,
     "metadata": {},
     "output_type": "execute_result"
    }
   ],
   "source": [
    "gender_data = purchase_data.groupby(\"Gender\")\n",
    "gender_count = gender_data.nunique()[\"SN\"]\n",
    "percentage_of_players = (gender_count / 576) * 100\n",
    "\n",
    "gender_dem = pd.DataFrame({\"Gender Count\": gender_count,\"Percentage of Players\":percentage_of_players})\n",
    "gender_dem"
   ]
  },
  {
   "cell_type": "markdown",
   "metadata": {},
   "source": [
    "\n",
    "## Purchasing Analysis (Gender)"
   ]
  },
  {
   "cell_type": "markdown",
   "metadata": {},
   "source": [
    "* Run basic calculations to obtain purchase count, avg. purchase price, avg. purchase total per person etc. by gender\n",
    "\n",
    "\n",
    "\n",
    "\n",
    "* Create a summary data frame to hold the results\n",
    "\n",
    "\n",
    "* Optional: give the displayed data cleaner formatting\n",
    "\n",
    "\n",
    "* Display the summary data frame"
   ]
  },
  {
   "cell_type": "code",
   "execution_count": 6,
   "metadata": {},
   "outputs": [
    {
     "data": {
      "text/html": [
       "<style  type=\"text/css\" >\n",
       "</style><table id=\"T_af7165ae_0a6e_11ea_9bd4_b0fc362a626a\" ><thead>    <tr>        <th class=\"blank level0\" ></th>        <th class=\"col_heading level0 col0\" >Purchase Count</th>        <th class=\"col_heading level0 col1\" >Average Purchase Price</th>        <th class=\"col_heading level0 col2\" >Average Purchase Value</th>        <th class=\"col_heading level0 col3\" >Avg Purchase Total per Person</th>    </tr>    <tr>        <th class=\"index_name level0\" >Gender</th>        <th class=\"blank\" ></th>        <th class=\"blank\" ></th>        <th class=\"blank\" ></th>        <th class=\"blank\" ></th>    </tr></thead><tbody>\n",
       "                <tr>\n",
       "                        <th id=\"T_af7165ae_0a6e_11ea_9bd4_b0fc362a626alevel0_row0\" class=\"row_heading level0 row0\" >Female</th>\n",
       "                        <td id=\"T_af7165ae_0a6e_11ea_9bd4_b0fc362a626arow0_col0\" class=\"data row0 col0\" >113</td>\n",
       "                        <td id=\"T_af7165ae_0a6e_11ea_9bd4_b0fc362a626arow0_col1\" class=\"data row0 col1\" >$3.20</td>\n",
       "                        <td id=\"T_af7165ae_0a6e_11ea_9bd4_b0fc362a626arow0_col2\" class=\"data row0 col2\" >$361.94</td>\n",
       "                        <td id=\"T_af7165ae_0a6e_11ea_9bd4_b0fc362a626arow0_col3\" class=\"data row0 col3\" >$4.47</td>\n",
       "            </tr>\n",
       "            <tr>\n",
       "                        <th id=\"T_af7165ae_0a6e_11ea_9bd4_b0fc362a626alevel0_row1\" class=\"row_heading level0 row1\" >Male</th>\n",
       "                        <td id=\"T_af7165ae_0a6e_11ea_9bd4_b0fc362a626arow1_col0\" class=\"data row1 col0\" >652</td>\n",
       "                        <td id=\"T_af7165ae_0a6e_11ea_9bd4_b0fc362a626arow1_col1\" class=\"data row1 col1\" >$3.02</td>\n",
       "                        <td id=\"T_af7165ae_0a6e_11ea_9bd4_b0fc362a626arow1_col2\" class=\"data row1 col2\" >$1,967.64</td>\n",
       "                        <td id=\"T_af7165ae_0a6e_11ea_9bd4_b0fc362a626arow1_col3\" class=\"data row1 col3\" >$4.07</td>\n",
       "            </tr>\n",
       "            <tr>\n",
       "                        <th id=\"T_af7165ae_0a6e_11ea_9bd4_b0fc362a626alevel0_row2\" class=\"row_heading level0 row2\" >Other / Non-Disclosed</th>\n",
       "                        <td id=\"T_af7165ae_0a6e_11ea_9bd4_b0fc362a626arow2_col0\" class=\"data row2 col0\" >15</td>\n",
       "                        <td id=\"T_af7165ae_0a6e_11ea_9bd4_b0fc362a626arow2_col1\" class=\"data row2 col1\" >$3.35</td>\n",
       "                        <td id=\"T_af7165ae_0a6e_11ea_9bd4_b0fc362a626arow2_col2\" class=\"data row2 col2\" >$50.19</td>\n",
       "                        <td id=\"T_af7165ae_0a6e_11ea_9bd4_b0fc362a626arow2_col3\" class=\"data row2 col3\" >$4.56</td>\n",
       "            </tr>\n",
       "    </tbody></table>"
      ],
      "text/plain": [
       "<pandas.io.formats.style.Styler at 0x1f61b396308>"
      ]
     },
     "execution_count": 6,
     "metadata": {},
     "output_type": "execute_result"
    }
   ],
   "source": [
    "purchase_count = gender_data[\"Purchase ID\"].count()\n",
    "purchase_count\n",
    "\n",
    "avg_purchase_price = gender_data[\"Price\"].mean()\n",
    "\n",
    "avg_purchase_total = gender_data[\"Price\"].sum()\n",
    "\n",
    "avg_total_per_SN = avg_purchase_total/gender_count\n",
    "\n",
    "\n",
    "gender_spend = pd.DataFrame({\"Purchase Count\": purchase_count, \n",
    "                                    \"Average Purchase Price\": avg_purchase_price,\n",
    "                                    \"Average Purchase Value\":avg_purchase_total,\n",
    "                                    \"Avg Purchase Total per Person\": avg_total_per_SN})\n",
    "\n",
    "gender_spend.index.name = \"Gender\"\n",
    "\n",
    "\n",
    "gender_spend.style.format({\"Average Purchase Value\":\"${:,.2f}\",\n",
    "                                  \"Average Purchase Price\":\"${:,.2f}\",\n",
    "                                  \"Avg Purchase Total per Person\":\"${:,.2f}\"})"
   ]
  },
  {
   "cell_type": "markdown",
   "metadata": {},
   "source": [
    "## Age Demographics"
   ]
  },
  {
   "cell_type": "markdown",
   "metadata": {},
   "source": [
    "* Establish bins for ages\n",
    "\n",
    "\n",
    "* Categorize the existing players using the age bins. Hint: use pd.cut()\n",
    "\n",
    "\n",
    "* Calculate the numbers and percentages by age group\n",
    "\n",
    "\n",
    "* Create a summary data frame to hold the results\n",
    "\n",
    "\n",
    "* Optional: round the percentage column to two decimal points\n",
    "\n",
    "\n",
    "* Display Age Demographics Table\n"
   ]
  },
  {
   "cell_type": "code",
   "execution_count": 16,
   "metadata": {},
   "outputs": [
    {
     "data": {
      "text/html": [
       "<style  type=\"text/css\" >\n",
       "</style><table id=\"T_8c0050ca_0a6f_11ea_ad6c_b0fc362a626a\" ><thead>    <tr>        <th class=\"blank level0\" ></th>        <th class=\"col_heading level0 col0\" >Percentage of Players</th>        <th class=\"col_heading level0 col1\" >Total Count</th>    </tr>    <tr>        <th class=\"index_name level0\" >Age Group</th>        <th class=\"blank\" ></th>        <th class=\"blank\" ></th>    </tr></thead><tbody>\n",
       "                <tr>\n",
       "                        <th id=\"T_8c0050ca_0a6f_11ea_ad6c_b0fc362a626alevel0_row0\" class=\"row_heading level0 row0\" ><10</th>\n",
       "                        <td id=\"T_8c0050ca_0a6f_11ea_ad6c_b0fc362a626arow0_col0\" class=\"data row0 col0\" >4.17</td>\n",
       "                        <td id=\"T_8c0050ca_0a6f_11ea_ad6c_b0fc362a626arow0_col1\" class=\"data row0 col1\" >24</td>\n",
       "            </tr>\n",
       "            <tr>\n",
       "                        <th id=\"T_8c0050ca_0a6f_11ea_ad6c_b0fc362a626alevel0_row1\" class=\"row_heading level0 row1\" >10-14</th>\n",
       "                        <td id=\"T_8c0050ca_0a6f_11ea_ad6c_b0fc362a626arow1_col0\" class=\"data row1 col0\" >7.12</td>\n",
       "                        <td id=\"T_8c0050ca_0a6f_11ea_ad6c_b0fc362a626arow1_col1\" class=\"data row1 col1\" >41</td>\n",
       "            </tr>\n",
       "            <tr>\n",
       "                        <th id=\"T_8c0050ca_0a6f_11ea_ad6c_b0fc362a626alevel0_row2\" class=\"row_heading level0 row2\" >15-19</th>\n",
       "                        <td id=\"T_8c0050ca_0a6f_11ea_ad6c_b0fc362a626arow2_col0\" class=\"data row2 col0\" >26.04</td>\n",
       "                        <td id=\"T_8c0050ca_0a6f_11ea_ad6c_b0fc362a626arow2_col1\" class=\"data row2 col1\" >150</td>\n",
       "            </tr>\n",
       "            <tr>\n",
       "                        <th id=\"T_8c0050ca_0a6f_11ea_ad6c_b0fc362a626alevel0_row3\" class=\"row_heading level0 row3\" >20-24</th>\n",
       "                        <td id=\"T_8c0050ca_0a6f_11ea_ad6c_b0fc362a626arow3_col0\" class=\"data row3 col0\" >40.28</td>\n",
       "                        <td id=\"T_8c0050ca_0a6f_11ea_ad6c_b0fc362a626arow3_col1\" class=\"data row3 col1\" >232</td>\n",
       "            </tr>\n",
       "            <tr>\n",
       "                        <th id=\"T_8c0050ca_0a6f_11ea_ad6c_b0fc362a626alevel0_row4\" class=\"row_heading level0 row4\" >25-29</th>\n",
       "                        <td id=\"T_8c0050ca_0a6f_11ea_ad6c_b0fc362a626arow4_col0\" class=\"data row4 col0\" >10.24</td>\n",
       "                        <td id=\"T_8c0050ca_0a6f_11ea_ad6c_b0fc362a626arow4_col1\" class=\"data row4 col1\" >59</td>\n",
       "            </tr>\n",
       "            <tr>\n",
       "                        <th id=\"T_8c0050ca_0a6f_11ea_ad6c_b0fc362a626alevel0_row5\" class=\"row_heading level0 row5\" >30-34</th>\n",
       "                        <td id=\"T_8c0050ca_0a6f_11ea_ad6c_b0fc362a626arow5_col0\" class=\"data row5 col0\" >6.42</td>\n",
       "                        <td id=\"T_8c0050ca_0a6f_11ea_ad6c_b0fc362a626arow5_col1\" class=\"data row5 col1\" >37</td>\n",
       "            </tr>\n",
       "            <tr>\n",
       "                        <th id=\"T_8c0050ca_0a6f_11ea_ad6c_b0fc362a626alevel0_row6\" class=\"row_heading level0 row6\" >35-39</th>\n",
       "                        <td id=\"T_8c0050ca_0a6f_11ea_ad6c_b0fc362a626arow6_col0\" class=\"data row6 col0\" >4.51</td>\n",
       "                        <td id=\"T_8c0050ca_0a6f_11ea_ad6c_b0fc362a626arow6_col1\" class=\"data row6 col1\" >26</td>\n",
       "            </tr>\n",
       "            <tr>\n",
       "                        <th id=\"T_8c0050ca_0a6f_11ea_ad6c_b0fc362a626alevel0_row7\" class=\"row_heading level0 row7\" >>=40</th>\n",
       "                        <td id=\"T_8c0050ca_0a6f_11ea_ad6c_b0fc362a626arow7_col0\" class=\"data row7 col0\" >1.22</td>\n",
       "                        <td id=\"T_8c0050ca_0a6f_11ea_ad6c_b0fc362a626arow7_col1\" class=\"data row7 col1\" >7</td>\n",
       "            </tr>\n",
       "    </tbody></table>"
      ],
      "text/plain": [
       "<pandas.io.formats.style.Styler at 0x1f61be71cc8>"
      ]
     },
     "execution_count": 16,
     "metadata": {},
     "output_type": "execute_result"
    }
   ],
   "source": [
    "age_bins = [0,10,15,20,25,30,35,40, 45]\n",
    "age_ranges = [\"<10\", \"10-14\",\"15-19\", \"20-24\", \"25-29\", \"30-34\", \"35-39\", \">=40\"]\n",
    "\n",
    "purchase_data[\"Age Group\"] = pd.cut(purchase_data[\"Age\"],age_bins, labels= age_ranges)\n",
    "purchase_data\n",
    "\n",
    "age_groups = purchase_data.groupby(\"Age Group\")\n",
    "\n",
    "age_total = age_groups[\"SN\"].nunique()\n",
    "\n",
    "age_pct = (age_total/576) * 100\n",
    "\n",
    "age_dem = pd.DataFrame({\"Percentage of Players\": age_pct, \"ToPurchasetal Count\": age_total})\n",
    "\n",
    "age_dem.style.format({\"Percentage of Players\":\"{:,.2f}\"})"
   ]
  },
  {
   "cell_type": "markdown",
   "metadata": {},
   "source": [
    "## Purchasing Analysis (Age)"
   ]
  },
  {
   "cell_type": "markdown",
   "metadata": {},
   "source": [
    "* Bin the purchase_data data frame by age\n",
    "\n",
    "\n",
    "* Run basic calculations to obtain purchase count, avg. purchase price, avg. purchase total per person etc. in the table below\n",
    "\n",
    "\n",
    "* Create a summary data frame to hold the results\n",
    "\n",
    "\n",
    "* Optional: give the displayed data cleaner formatting\n",
    "\n",
    "\n",
    "* Display the summary data frame"
   ]
  },
  {
   "cell_type": "code",
   "execution_count": 25,
   "metadata": {},
   "outputs": [
    {
     "data": {
      "text/html": [
       "<style  type=\"text/css\" >\n",
       "</style><table id=\"T_3986017a_0a73_11ea_9330_b0fc362a626a\" ><thead>    <tr>        <th class=\"blank level0\" ></th>        <th class=\"col_heading level0 col0\" >Purchase Count</th>        <th class=\"col_heading level0 col1\" >Avg. Purchase Price</th>        <th class=\"col_heading level0 col2\" >Total Purchase Value</th>        <th class=\"col_heading level0 col3\" >Average Purchase Total per Person</th>    </tr>    <tr>        <th class=\"index_name level0\" >Age Group</th>        <th class=\"blank\" ></th>        <th class=\"blank\" ></th>        <th class=\"blank\" ></th>        <th class=\"blank\" ></th>    </tr></thead><tbody>\n",
       "                <tr>\n",
       "                        <th id=\"T_3986017a_0a73_11ea_9330_b0fc362a626alevel0_row0\" class=\"row_heading level0 row0\" ><10</th>\n",
       "                        <td id=\"T_3986017a_0a73_11ea_9330_b0fc362a626arow0_col0\" class=\"data row0 col0\" >32</td>\n",
       "                        <td id=\"T_3986017a_0a73_11ea_9330_b0fc362a626arow0_col1\" class=\"data row0 col1\" >$3.40</td>\n",
       "                        <td id=\"T_3986017a_0a73_11ea_9330_b0fc362a626arow0_col2\" class=\"data row0 col2\" >$108.96</td>\n",
       "                        <td id=\"T_3986017a_0a73_11ea_9330_b0fc362a626arow0_col3\" class=\"data row0 col3\" >$3.40</td>\n",
       "            </tr>\n",
       "            <tr>\n",
       "                        <th id=\"T_3986017a_0a73_11ea_9330_b0fc362a626alevel0_row1\" class=\"row_heading level0 row1\" >10-14</th>\n",
       "                        <td id=\"T_3986017a_0a73_11ea_9330_b0fc362a626arow1_col0\" class=\"data row1 col0\" >54</td>\n",
       "                        <td id=\"T_3986017a_0a73_11ea_9330_b0fc362a626arow1_col1\" class=\"data row1 col1\" >$2.90</td>\n",
       "                        <td id=\"T_3986017a_0a73_11ea_9330_b0fc362a626arow1_col2\" class=\"data row1 col2\" >$156.60</td>\n",
       "                        <td id=\"T_3986017a_0a73_11ea_9330_b0fc362a626arow1_col3\" class=\"data row1 col3\" >$2.90</td>\n",
       "            </tr>\n",
       "            <tr>\n",
       "                        <th id=\"T_3986017a_0a73_11ea_9330_b0fc362a626alevel0_row2\" class=\"row_heading level0 row2\" >15-19</th>\n",
       "                        <td id=\"T_3986017a_0a73_11ea_9330_b0fc362a626arow2_col0\" class=\"data row2 col0\" >200</td>\n",
       "                        <td id=\"T_3986017a_0a73_11ea_9330_b0fc362a626arow2_col1\" class=\"data row2 col1\" >$3.11</td>\n",
       "                        <td id=\"T_3986017a_0a73_11ea_9330_b0fc362a626arow2_col2\" class=\"data row2 col2\" >$621.56</td>\n",
       "                        <td id=\"T_3986017a_0a73_11ea_9330_b0fc362a626arow2_col3\" class=\"data row2 col3\" >$3.11</td>\n",
       "            </tr>\n",
       "            <tr>\n",
       "                        <th id=\"T_3986017a_0a73_11ea_9330_b0fc362a626alevel0_row3\" class=\"row_heading level0 row3\" >20-24</th>\n",
       "                        <td id=\"T_3986017a_0a73_11ea_9330_b0fc362a626arow3_col0\" class=\"data row3 col0\" >325</td>\n",
       "                        <td id=\"T_3986017a_0a73_11ea_9330_b0fc362a626arow3_col1\" class=\"data row3 col1\" >$3.02</td>\n",
       "                        <td id=\"T_3986017a_0a73_11ea_9330_b0fc362a626arow3_col2\" class=\"data row3 col2\" >$981.64</td>\n",
       "                        <td id=\"T_3986017a_0a73_11ea_9330_b0fc362a626arow3_col3\" class=\"data row3 col3\" >$3.02</td>\n",
       "            </tr>\n",
       "            <tr>\n",
       "                        <th id=\"T_3986017a_0a73_11ea_9330_b0fc362a626alevel0_row4\" class=\"row_heading level0 row4\" >25-29</th>\n",
       "                        <td id=\"T_3986017a_0a73_11ea_9330_b0fc362a626arow4_col0\" class=\"data row4 col0\" >77</td>\n",
       "                        <td id=\"T_3986017a_0a73_11ea_9330_b0fc362a626arow4_col1\" class=\"data row4 col1\" >$2.88</td>\n",
       "                        <td id=\"T_3986017a_0a73_11ea_9330_b0fc362a626arow4_col2\" class=\"data row4 col2\" >$221.42</td>\n",
       "                        <td id=\"T_3986017a_0a73_11ea_9330_b0fc362a626arow4_col3\" class=\"data row4 col3\" >$2.88</td>\n",
       "            </tr>\n",
       "            <tr>\n",
       "                        <th id=\"T_3986017a_0a73_11ea_9330_b0fc362a626alevel0_row5\" class=\"row_heading level0 row5\" >30-34</th>\n",
       "                        <td id=\"T_3986017a_0a73_11ea_9330_b0fc362a626arow5_col0\" class=\"data row5 col0\" >52</td>\n",
       "                        <td id=\"T_3986017a_0a73_11ea_9330_b0fc362a626arow5_col1\" class=\"data row5 col1\" >$2.99</td>\n",
       "                        <td id=\"T_3986017a_0a73_11ea_9330_b0fc362a626arow5_col2\" class=\"data row5 col2\" >$155.71</td>\n",
       "                        <td id=\"T_3986017a_0a73_11ea_9330_b0fc362a626arow5_col3\" class=\"data row5 col3\" >$2.99</td>\n",
       "            </tr>\n",
       "            <tr>\n",
       "                        <th id=\"T_3986017a_0a73_11ea_9330_b0fc362a626alevel0_row6\" class=\"row_heading level0 row6\" >35-39</th>\n",
       "                        <td id=\"T_3986017a_0a73_11ea_9330_b0fc362a626arow6_col0\" class=\"data row6 col0\" >33</td>\n",
       "                        <td id=\"T_3986017a_0a73_11ea_9330_b0fc362a626arow6_col1\" class=\"data row6 col1\" >$3.40</td>\n",
       "                        <td id=\"T_3986017a_0a73_11ea_9330_b0fc362a626arow6_col2\" class=\"data row6 col2\" >$112.35</td>\n",
       "                        <td id=\"T_3986017a_0a73_11ea_9330_b0fc362a626arow6_col3\" class=\"data row6 col3\" >$3.40</td>\n",
       "            </tr>\n",
       "            <tr>\n",
       "                        <th id=\"T_3986017a_0a73_11ea_9330_b0fc362a626alevel0_row7\" class=\"row_heading level0 row7\" >>=40</th>\n",
       "                        <td id=\"T_3986017a_0a73_11ea_9330_b0fc362a626arow7_col0\" class=\"data row7 col0\" >7</td>\n",
       "                        <td id=\"T_3986017a_0a73_11ea_9330_b0fc362a626arow7_col1\" class=\"data row7 col1\" >$3.08</td>\n",
       "                        <td id=\"T_3986017a_0a73_11ea_9330_b0fc362a626arow7_col2\" class=\"data row7 col2\" >$21.53</td>\n",
       "                        <td id=\"T_3986017a_0a73_11ea_9330_b0fc362a626arow7_col3\" class=\"data row7 col3\" >$3.08</td>\n",
       "            </tr>\n",
       "    </tbody></table>"
      ],
      "text/plain": [
       "<pandas.io.formats.style.Styler at 0x1f61bc54a48>"
      ]
     },
     "execution_count": 25,
     "metadata": {},
     "output_type": "execute_result"
    }
   ],
   "source": [
    "age_purchases = age_groups[\"Purchase ID\"].count()\n",
    "\n",
    "avgprice_age = age_groups[\"Price\"].mean()\n",
    "\n",
    "\n",
    "total_value_age = age_groups[\"Price\"].sum()\n",
    "\n",
    "\n",
    "avgpurchase_per_age = total_value_age/age_purchases\n",
    "\n",
    "\n",
    "age_dem = pd.DataFrame({\"Purchase Count\": age_purchases,\n",
    "                                 \"Avg. Purchase Price\": avgprice_age,\n",
    "                                 \"Total Purchase Value\":total_value_age,\n",
    "                                 \"Average Purchase Total per Person\": avgpurchase_per_age})\n",
    "\n",
    "age_dem.style.format({\"Avg. Purchase Price\":\"${:,.2f}\",\n",
    "                               \"Total Purchase Value\":\"${:,.2f}\",\n",
    "                               \"Average Purchase Total per Person\":\"${:,.2f}\"})"
   ]
  },
  {
   "cell_type": "markdown",
   "metadata": {},
   "source": [
    "## Top Spenders"
   ]
  },
  {
   "cell_type": "markdown",
   "metadata": {},
   "source": [
    "* Run basic calculations to obtain the results in the table below\n",
    "\n",
    "\n",
    "* Create a summary data frame to hold the results\n",
    "\n",
    "\n",
    "* Sort the total purchase value column in descending order\n",
    "\n",
    "\n",
    "* Optional: give the displayed data cleaner formatting\n",
    "\n",
    "\n",
    "* Display a preview of the summary data frame\n",
    "\n"
   ]
  },
  {
   "cell_type": "code",
   "execution_count": 26,
   "metadata": {},
   "outputs": [
    {
     "data": {
      "text/html": [
       "<div>\n",
       "<style scoped>\n",
       "    .dataframe tbody tr th:only-of-type {\n",
       "        vertical-align: middle;\n",
       "    }\n",
       "\n",
       "    .dataframe tbody tr th {\n",
       "        vertical-align: top;\n",
       "    }\n",
       "\n",
       "    .dataframe thead th {\n",
       "        text-align: right;\n",
       "    }\n",
       "</style>\n",
       "<table border=\"1\" class=\"dataframe\">\n",
       "  <thead>\n",
       "    <tr style=\"text-align: right;\">\n",
       "      <th></th>\n",
       "      <th>Purchase Count</th>\n",
       "      <th>Average Purchase Price</th>\n",
       "      <th>Total Purchase Value</th>\n",
       "    </tr>\n",
       "    <tr>\n",
       "      <th>SN</th>\n",
       "      <th></th>\n",
       "      <th></th>\n",
       "      <th></th>\n",
       "    </tr>\n",
       "  </thead>\n",
       "  <tbody>\n",
       "    <tr>\n",
       "      <td>Adairialis76</td>\n",
       "      <td>1</td>\n",
       "      <td>2.28</td>\n",
       "      <td>2.28</td>\n",
       "    </tr>\n",
       "    <tr>\n",
       "      <td>Adastirin33</td>\n",
       "      <td>1</td>\n",
       "      <td>4.48</td>\n",
       "      <td>4.48</td>\n",
       "    </tr>\n",
       "    <tr>\n",
       "      <td>Aeda94</td>\n",
       "      <td>1</td>\n",
       "      <td>4.91</td>\n",
       "      <td>4.91</td>\n",
       "    </tr>\n",
       "    <tr>\n",
       "      <td>Aela59</td>\n",
       "      <td>1</td>\n",
       "      <td>4.32</td>\n",
       "      <td>4.32</td>\n",
       "    </tr>\n",
       "    <tr>\n",
       "      <td>Aelaria33</td>\n",
       "      <td>1</td>\n",
       "      <td>1.79</td>\n",
       "      <td>1.79</td>\n",
       "    </tr>\n",
       "  </tbody>\n",
       "</table>\n",
       "</div>"
      ],
      "text/plain": [
       "              Purchase Count  Average Purchase Price  Total Purchase Value\n",
       "SN                                                                        \n",
       "Adairialis76               1                    2.28                  2.28\n",
       "Adastirin33                1                    4.48                  4.48\n",
       "Aeda94                     1                    4.91                  4.91\n",
       "Aela59                     1                    4.32                  4.32\n",
       "Aelaria33                  1                    1.79                  1.79"
      ]
     },
     "execution_count": 26,
     "metadata": {},
     "output_type": "execute_result"
    }
   ],
   "source": [
    "player_spend = purchase_data.groupby(\"SN\").count()[\"Price\"].rename(\"Purchase Count\")\n",
    "player_avgprice = purchase_data.groupby(\"SN\").mean()[\"Price\"].rename(\"Average Purchase Price\")\n",
    "player_total = purchase_data.groupby(\"SN\").sum()[\"Price\"].rename(\"Total Purchase Value\")\n",
    "\n",
    "SN_spend = pd.DataFrame({\"Purchase Count\":player_spend,\n",
    "                                   \"Average Purchase Price\": player_avgprice,\n",
    "                                   \"Total Purchase Value\": player_total})\n",
    "SN_spend.head()"
   ]
  },
  {
   "cell_type": "code",
   "execution_count": 27,
   "metadata": {},
   "outputs": [
    {
     "data": {
      "text/html": [
       "<div>\n",
       "<style scoped>\n",
       "    .dataframe tbody tr th:only-of-type {\n",
       "        vertical-align: middle;\n",
       "    }\n",
       "\n",
       "    .dataframe tbody tr th {\n",
       "        vertical-align: top;\n",
       "    }\n",
       "\n",
       "    .dataframe thead th {\n",
       "        text-align: right;\n",
       "    }\n",
       "</style>\n",
       "<table border=\"1\" class=\"dataframe\">\n",
       "  <thead>\n",
       "    <tr style=\"text-align: right;\">\n",
       "      <th></th>\n",
       "      <th>Purchase Count</th>\n",
       "      <th>Average Purchase Price</th>\n",
       "      <th>Total Purchase Value</th>\n",
       "    </tr>\n",
       "    <tr>\n",
       "      <th>SN</th>\n",
       "      <th></th>\n",
       "      <th></th>\n",
       "      <th></th>\n",
       "    </tr>\n",
       "  </thead>\n",
       "  <tbody>\n",
       "    <tr>\n",
       "      <td>Lisosia93</td>\n",
       "      <td>5</td>\n",
       "      <td>3.792000</td>\n",
       "      <td>18.96</td>\n",
       "    </tr>\n",
       "    <tr>\n",
       "      <td>Idastidru52</td>\n",
       "      <td>4</td>\n",
       "      <td>3.862500</td>\n",
       "      <td>15.45</td>\n",
       "    </tr>\n",
       "    <tr>\n",
       "      <td>Chamjask73</td>\n",
       "      <td>3</td>\n",
       "      <td>4.610000</td>\n",
       "      <td>13.83</td>\n",
       "    </tr>\n",
       "    <tr>\n",
       "      <td>Iral74</td>\n",
       "      <td>4</td>\n",
       "      <td>3.405000</td>\n",
       "      <td>13.62</td>\n",
       "    </tr>\n",
       "    <tr>\n",
       "      <td>Iskadarya95</td>\n",
       "      <td>3</td>\n",
       "      <td>4.366667</td>\n",
       "      <td>13.10</td>\n",
       "    </tr>\n",
       "  </tbody>\n",
       "</table>\n",
       "</div>"
      ],
      "text/plain": [
       "             Purchase Count  Average Purchase Price  Total Purchase Value\n",
       "SN                                                                       \n",
       "Lisosia93                 5                3.792000                 18.96\n",
       "Idastidru52               4                3.862500                 15.45\n",
       "Chamjask73                3                4.610000                 13.83\n",
       "Iral74                    4                3.405000                 13.62\n",
       "Iskadarya95               3                4.366667                 13.10"
      ]
     },
     "execution_count": 27,
     "metadata": {},
     "output_type": "execute_result"
    }
   ],
   "source": [
    "top_spend = SN_spend.sort_values(\"Total Purchase Value\", ascending=False)\n",
    "top_spend.head()"
   ]
  },
  {
   "cell_type": "markdown",
   "metadata": {},
   "source": [
    "## Most Popular Items"
   ]
  },
  {
   "cell_type": "markdown",
   "metadata": {},
   "source": [
    "* Retrieve the Item ID, Item Name, and Item Price columns\n",
    "\n",
    "\n",
    "* Group by Item ID and Item Name. Perform calculations to obtain purchase count, item price, and total purchase value\n",
    "\n",
    "\n",
    "* Create a summary data frame to hold the results\n",
    "\n",
    "\n",
    "* Sort the purchase count column in descending order\n",
    "\n",
    "\n",
    "* Optional: give the displayed data cleaner formatting\n",
    "\n",
    "\n",
    "* Display a preview of the summary data frame\n",
    "\n"
   ]
  },
  {
   "cell_type": "code",
   "execution_count": 31,
   "metadata": {},
   "outputs": [
    {
     "data": {
      "text/html": [
       "<style  type=\"text/css\" >\n",
       "</style><table id=\"T_a4f5b674_0a73_11ea_a749_b0fc362a626a\" ><thead>    <tr>        <th class=\"blank\" ></th>        <th class=\"blank level0\" ></th>        <th class=\"col_heading level0 col0\" >Purchase Count</th>        <th class=\"col_heading level0 col1\" >Item Price</th>        <th class=\"col_heading level0 col2\" >Total Purchase Value</th>    </tr>    <tr>        <th class=\"index_name level0\" >Item ID</th>        <th class=\"index_name level1\" >Item Name</th>        <th class=\"blank\" ></th>        <th class=\"blank\" ></th>        <th class=\"blank\" ></th>    </tr></thead><tbody>\n",
       "                <tr>\n",
       "                        <th id=\"T_a4f5b674_0a73_11ea_a749_b0fc362a626alevel0_row0\" class=\"row_heading level0 row0\" >178</th>\n",
       "                        <th id=\"T_a4f5b674_0a73_11ea_a749_b0fc362a626alevel1_row0\" class=\"row_heading level1 row0\" >Oathbreaker, Last Hope of the Breaking Storm</th>\n",
       "                        <td id=\"T_a4f5b674_0a73_11ea_a749_b0fc362a626arow0_col0\" class=\"data row0 col0\" >12</td>\n",
       "                        <td id=\"T_a4f5b674_0a73_11ea_a749_b0fc362a626arow0_col1\" class=\"data row0 col1\" >$4.23</td>\n",
       "                        <td id=\"T_a4f5b674_0a73_11ea_a749_b0fc362a626arow0_col2\" class=\"data row0 col2\" >$50.76</td>\n",
       "            </tr>\n",
       "            <tr>\n",
       "                        <th id=\"T_a4f5b674_0a73_11ea_a749_b0fc362a626alevel0_row1\" class=\"row_heading level0 row1\" >145</th>\n",
       "                        <th id=\"T_a4f5b674_0a73_11ea_a749_b0fc362a626alevel1_row1\" class=\"row_heading level1 row1\" >Fiery Glass Crusader</th>\n",
       "                        <td id=\"T_a4f5b674_0a73_11ea_a749_b0fc362a626arow1_col0\" class=\"data row1 col0\" >9</td>\n",
       "                        <td id=\"T_a4f5b674_0a73_11ea_a749_b0fc362a626arow1_col1\" class=\"data row1 col1\" >$4.58</td>\n",
       "                        <td id=\"T_a4f5b674_0a73_11ea_a749_b0fc362a626arow1_col2\" class=\"data row1 col2\" >$41.22</td>\n",
       "            </tr>\n",
       "            <tr>\n",
       "                        <th id=\"T_a4f5b674_0a73_11ea_a749_b0fc362a626alevel0_row2\" class=\"row_heading level0 row2\" >108</th>\n",
       "                        <th id=\"T_a4f5b674_0a73_11ea_a749_b0fc362a626alevel1_row2\" class=\"row_heading level1 row2\" >Extraction, Quickblade Of Trembling Hands</th>\n",
       "                        <td id=\"T_a4f5b674_0a73_11ea_a749_b0fc362a626arow2_col0\" class=\"data row2 col0\" >9</td>\n",
       "                        <td id=\"T_a4f5b674_0a73_11ea_a749_b0fc362a626arow2_col1\" class=\"data row2 col1\" >$3.53</td>\n",
       "                        <td id=\"T_a4f5b674_0a73_11ea_a749_b0fc362a626arow2_col2\" class=\"data row2 col2\" >$31.77</td>\n",
       "            </tr>\n",
       "            <tr>\n",
       "                        <th id=\"T_a4f5b674_0a73_11ea_a749_b0fc362a626alevel0_row3\" class=\"row_heading level0 row3\" >82</th>\n",
       "                        <th id=\"T_a4f5b674_0a73_11ea_a749_b0fc362a626alevel1_row3\" class=\"row_heading level1 row3\" >Nirvana</th>\n",
       "                        <td id=\"T_a4f5b674_0a73_11ea_a749_b0fc362a626arow3_col0\" class=\"data row3 col0\" >9</td>\n",
       "                        <td id=\"T_a4f5b674_0a73_11ea_a749_b0fc362a626arow3_col1\" class=\"data row3 col1\" >$4.90</td>\n",
       "                        <td id=\"T_a4f5b674_0a73_11ea_a749_b0fc362a626arow3_col2\" class=\"data row3 col2\" >$44.10</td>\n",
       "            </tr>\n",
       "            <tr>\n",
       "                        <th id=\"T_a4f5b674_0a73_11ea_a749_b0fc362a626alevel0_row4\" class=\"row_heading level0 row4\" >19</th>\n",
       "                        <th id=\"T_a4f5b674_0a73_11ea_a749_b0fc362a626alevel1_row4\" class=\"row_heading level1 row4\" >Pursuit, Cudgel of Necromancy</th>\n",
       "                        <td id=\"T_a4f5b674_0a73_11ea_a749_b0fc362a626arow4_col0\" class=\"data row4 col0\" >8</td>\n",
       "                        <td id=\"T_a4f5b674_0a73_11ea_a749_b0fc362a626arow4_col1\" class=\"data row4 col1\" >$1.02</td>\n",
       "                        <td id=\"T_a4f5b674_0a73_11ea_a749_b0fc362a626arow4_col2\" class=\"data row4 col2\" >$8.16</td>\n",
       "            </tr>\n",
       "    </tbody></table>"
      ],
      "text/plain": [
       "<pandas.io.formats.style.Styler at 0x1f61be9d348>"
      ]
     },
     "execution_count": 31,
     "metadata": {},
     "output_type": "execute_result"
    }
   ],
   "source": [
    "\n",
    "items = purchase_data[[\"Item ID\", \"Item Name\", \"Price\"]]\n",
    "\n",
    "item_group = items.groupby([\"Item ID\",\"Item Name\"])\n",
    "\n",
    "count_item = item_group[\"Price\"].count()\n",
    "\n",
    "value_spend = (item_stats[\"Price\"].sum()) \n",
    "\n",
    "item_price = value_spend/count_item\n",
    "\n",
    "top_items = pd.DataFrame({\"Purchase Count\": count_item, \n",
    "                                   \"Item Price\": item_price,\n",
    "                                   \"Total Purchase Value\":value_spend})\n",
    "\n",
    "\n",
    "top_items_clean = top_items.sort_values([\"Purchase Count\"], ascending=False).head()\n",
    "\n",
    "\n",
    "top_items_clean.style.format({\"Item Price\":\"${:,.2f}\",\n",
    "                                \"Total Purchase Value\":\"${:,.2f}\"})"
   ]
  },
  {
   "cell_type": "markdown",
   "metadata": {},
   "source": [
    "## Most Profitable Items"
   ]
  },
  {
   "cell_type": "markdown",
   "metadata": {},
   "source": [
    "* Sort the above table by total purchase value in descending order\n",
    "\n",
    "\n",
    "* Optional: give the displayed data cleaner formatting\n",
    "\n",
    "\n",
    "* Display a preview of the data frame\n",
    "\n"
   ]
  },
  {
   "cell_type": "code",
   "execution_count": 32,
   "metadata": {
    "scrolled": true
   },
   "outputs": [
    {
     "data": {
      "text/html": [
       "<div>\n",
       "<style scoped>\n",
       "    .dataframe tbody tr th:only-of-type {\n",
       "        vertical-align: middle;\n",
       "    }\n",
       "\n",
       "    .dataframe tbody tr th {\n",
       "        vertical-align: top;\n",
       "    }\n",
       "\n",
       "    .dataframe thead th {\n",
       "        text-align: right;\n",
       "    }\n",
       "</style>\n",
       "<table border=\"1\" class=\"dataframe\">\n",
       "  <thead>\n",
       "    <tr style=\"text-align: right;\">\n",
       "      <th></th>\n",
       "      <th></th>\n",
       "      <th>Purchase Count</th>\n",
       "      <th>Item Price</th>\n",
       "      <th>Total Purchase Value</th>\n",
       "    </tr>\n",
       "    <tr>\n",
       "      <th>Item ID</th>\n",
       "      <th>Item Name</th>\n",
       "      <th></th>\n",
       "      <th></th>\n",
       "      <th></th>\n",
       "    </tr>\n",
       "  </thead>\n",
       "  <tbody>\n",
       "    <tr>\n",
       "      <td>178</td>\n",
       "      <td>Oathbreaker, Last Hope of the Breaking Storm</td>\n",
       "      <td>12</td>\n",
       "      <td>4.23</td>\n",
       "      <td>50.76</td>\n",
       "    </tr>\n",
       "    <tr>\n",
       "      <td>82</td>\n",
       "      <td>Nirvana</td>\n",
       "      <td>9</td>\n",
       "      <td>4.90</td>\n",
       "      <td>44.10</td>\n",
       "    </tr>\n",
       "    <tr>\n",
       "      <td>145</td>\n",
       "      <td>Fiery Glass Crusader</td>\n",
       "      <td>9</td>\n",
       "      <td>4.58</td>\n",
       "      <td>41.22</td>\n",
       "    </tr>\n",
       "    <tr>\n",
       "      <td>108</td>\n",
       "      <td>Extraction, Quickblade Of Trembling Hands</td>\n",
       "      <td>9</td>\n",
       "      <td>3.53</td>\n",
       "      <td>31.77</td>\n",
       "    </tr>\n",
       "    <tr>\n",
       "      <td>19</td>\n",
       "      <td>Pursuit, Cudgel of Necromancy</td>\n",
       "      <td>8</td>\n",
       "      <td>1.02</td>\n",
       "      <td>8.16</td>\n",
       "    </tr>\n",
       "  </tbody>\n",
       "</table>\n",
       "</div>"
      ],
      "text/plain": [
       "                                                      Purchase Count  \\\n",
       "Item ID Item Name                                                      \n",
       "178     Oathbreaker, Last Hope of the Breaking Storm              12   \n",
       "82      Nirvana                                                    9   \n",
       "145     Fiery Glass Crusader                                       9   \n",
       "108     Extraction, Quickblade Of Trembling Hands                  9   \n",
       "19      Pursuit, Cudgel of Necromancy                              8   \n",
       "\n",
       "                                                      Item Price  \\\n",
       "Item ID Item Name                                                  \n",
       "178     Oathbreaker, Last Hope of the Breaking Storm        4.23   \n",
       "82      Nirvana                                             4.90   \n",
       "145     Fiery Glass Crusader                                4.58   \n",
       "108     Extraction, Quickblade Of Trembling Hands           3.53   \n",
       "19      Pursuit, Cudgel of Necromancy                       1.02   \n",
       "\n",
       "                                                      Total Purchase Value  \n",
       "Item ID Item Name                                                           \n",
       "178     Oathbreaker, Last Hope of the Breaking Storm                 50.76  \n",
       "82      Nirvana                                                      44.10  \n",
       "145     Fiery Glass Crusader                                         41.22  \n",
       "108     Extraction, Quickblade Of Trembling Hands                    31.77  \n",
       "19      Pursuit, Cudgel of Necromancy                                 8.16  "
      ]
     },
     "execution_count": 32,
     "metadata": {},
     "output_type": "execute_result"
    }
   ],
   "source": [
    "cash_cow = top_items_clean.sort_values(\"Total Purchase Value\", ascending=False)\n",
    "cash_cow.head()"
   ]
  },
  {
   "cell_type": "code",
   "execution_count": null,
   "metadata": {},
   "outputs": [],
   "source": [
    "Final Considerations:\n",
    "    \n",
    "    \n",
    "a) The vast majority fall within 15 - 24 years of age\n",
    "b)The youngest group of players (<10) has the highest avg. purchase price of all age groups\n",
    "c)Gender  (Non Identified - Other) has the highest avg. purchase price"
   ]
  }
 ],
 "metadata": {
  "anaconda-cloud": {},
  "kernel_info": {
   "name": "python3"
  },
  "kernelspec": {
   "display_name": "Python 3",
   "language": "python",
   "name": "python3"
  },
  "language_info": {
   "codemirror_mode": {
    "name": "ipython",
    "version": 3
   },
   "file_extension": ".py",
   "mimetype": "text/x-python",
   "name": "python",
   "nbconvert_exporter": "python",
   "pygments_lexer": "ipython3",
   "version": "3.7.4"
  },
  "latex_envs": {
   "LaTeX_envs_menu_present": true,
   "autoclose": false,
   "autocomplete": true,
   "bibliofile": "biblio.bib",
   "cite_by": "apalike",
   "current_citInitial": 1,
   "eqLabelWithNumbers": true,
   "eqNumInitial": 1,
   "hotkeys": {
    "equation": "Ctrl-E",
    "itemize": "Ctrl-I"
   },
   "labels_anchors": false,
   "latex_user_defs": false,
   "report_style_numbering": false,
   "user_envs_cfg": false
  },
  "nteract": {
   "version": "0.2.0"
  }
 },
 "nbformat": 4,
 "nbformat_minor": 2
}
